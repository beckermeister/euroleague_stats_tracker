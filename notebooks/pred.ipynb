{
 "cells": [
  {
   "cell_type": "code",
   "execution_count": 62,
   "metadata": {},
   "outputs": [],
   "source": [
    "import polars as pl\n",
    "import seaborn as sns\n",
    "from os import path\n",
    "import requests\n",
    "from bs4 import BeautifulSoup as bs\n",
    "import re"
   ]
  },
  {
   "cell_type": "code",
   "execution_count": 63,
   "metadata": {},
   "outputs": [],
   "source": [
    "team_stats = path.join(\"..\", \"data\", \"external\", \"Team stats.xlsx\")"
   ]
  },
  {
   "cell_type": "code",
   "execution_count": 64,
   "metadata": {},
   "outputs": [],
   "source": [
    "stats_df = pl.read_excel(team_stats, sheet_name=\"stats_clean\", engine=\"xlsx2csv\")"
   ]
  },
  {
   "cell_type": "code",
   "execution_count": 65,
   "metadata": {},
   "outputs": [
    {
     "name": "stdout",
     "output_type": "stream",
     "text": [
      "shape: (19, 53)\n",
      "┌──────┬──────────────────────────┬──────┬──────┬───┬─────────────┬──────┬──────────┬──────────┐\n",
      "│ RNK  ┆ TEAM                     ┆ GP   ┆ W    ┆ … ┆ DF 100 Poss ┆ BLK% ┆ eFG%     ┆ TS%      │\n",
      "│ ---  ┆ ---                      ┆ ---  ┆ ---  ┆   ┆ ---         ┆ ---  ┆ ---      ┆ ---      │\n",
      "│ i64  ┆ str                      ┆ i64  ┆ i64  ┆   ┆ f64         ┆ f64  ┆ f64      ┆ f64      │\n",
      "╞══════╪══════════════════════════╪══════╪══════╪═══╪═════════════╪══════╪══════════╪══════════╡\n",
      "│ 1    ┆ ALBA Berlin              ┆ 34   ┆ 14   ┆ … ┆ 28.5        ┆ 5.5  ┆ 0.527565 ┆ 0.560578 │\n",
      "│ 2    ┆ Anadolu Efes Istanbul    ┆ 40   ┆ 23   ┆ … ┆ 27.7        ┆ 7.5  ┆ 0.558292 ┆ 0.596395 │\n",
      "│ 3    ┆ AS Monaco                ┆ 38   ┆ 21   ┆ … ┆ 28.2        ┆ 5.9  ┆ 0.548507 ┆ 0.582909 │\n",
      "│ 4    ┆ AX Armani Exchange Milan ┆ 36   ┆ 22   ┆ … ┆ 26.8        ┆ 6.8  ┆ 0.517345 ┆ 0.548064 │\n",
      "│ …    ┆ …                        ┆ …    ┆ …    ┆ … ┆ …           ┆ …    ┆ …        ┆ …        │\n",
      "│ 16   ┆ UNICS Kazan              ┆ 25   ┆ 13   ┆ … ┆ 22.6        ┆ 5.3  ┆ 0.534361 ┆ 0.561064 │\n",
      "│ 17   ┆ Zalgiris Kaunas          ┆ 32   ┆ 8    ┆ … ┆ 27.1        ┆ 4.9  ┆ 0.520085 ┆ 0.557799 │\n",
      "│ 18   ┆ Zenit St Petersburg      ┆ 23   ┆ 14   ┆ … ┆ 29.2        ┆ 7.0  ┆ 0.531552 ┆ 0.563982 │\n",
      "│ null ┆ null                     ┆ null ┆ null ┆ … ┆ 27.7        ┆ 6.3  ┆ 0.533625 ┆ 0.568997 │\n",
      "└──────┴──────────────────────────┴──────┴──────┴───┴─────────────┴──────┴──────────┴──────────┘\n"
     ]
    }
   ],
   "source": [
    "print(stats_df)"
   ]
  },
  {
   "cell_type": "code",
   "execution_count": 66,
   "metadata": {},
   "outputs": [],
   "source": [
    "def get_game_links():\n",
    "    base_url = \"https://www.euroleaguebasketball.net/euroleague/game-center/?round=1&season=E2022\"\n",
    "    site = requests.get(base_url)\n",
    "    print(site.status_code)\n",
    "    soup = bs(str(site.content), 'html.parser')\n",
    "\n",
    "    links = []\n",
    "\n",
    "    for link in soup.find_all(\"a\"):\n",
    "        links.append(link.get(\"href\"))\n",
    "\n",
    "    link_format = r\"/euroleague/game-center/[\\w-]+/[\\w-]+/E2023/\\d\\d/\"\n",
    "    r = re.compile(link_format)\n",
    "    newlist = list(filter(r.match, links))\n",
    "\n",
    "    return list(dict.fromkeys(newlist))"
   ]
  },
  {
   "cell_type": "code",
   "execution_count": 67,
   "metadata": {},
   "outputs": [
    {
     "name": "stdout",
     "output_type": "stream",
     "text": [
      "200\n"
     ]
    }
   ],
   "source": [
    "res = get_game_links()"
   ]
  },
  {
   "cell_type": "code",
   "execution_count": 68,
   "metadata": {},
   "outputs": [
    {
     "name": "stdout",
     "output_type": "stream",
     "text": [
      "['/euroleague/game-center/2023-24/partizan-mozzart-bet-belgrade-fc-barcelona/E2023/22/', '/euroleague/game-center/2023-24/fenerbahce-beko-istanbul-panathinaikos-athens/E2023/21/', '/euroleague/game-center/2023-24/anadolu-efes-istanbul-ldlc-asvel-villeurbanne/E2023/19/', '/euroleague/game-center/2023-24/baskonia-vitoria-gasteiz-fc-bayern-munich/E2023/24/', '/euroleague/game-center/2023-24/real-madrid-zalgiris-kaunas/E2023/23/', '/euroleague/game-center/2023-24/ea7-emporio-armani-milan-olympiacos-piraeus/E2023/20/', '/euroleague/game-center/2023-24/crvena-zvezda-meridianbet-belgrade-as-monaco/E2023/25/', '/euroleague/game-center/2023-24/virtus-segafredo-bologna-alba-berlin/E2023/27/', '/euroleague/game-center/2023-24/valencia-basket-maccabi-playtika-tel-aviv/E2023/26/']\n"
     ]
    }
   ],
   "source": [
    "print(len(res))\n",
    "print(res)"
   ]
  }
 ],
 "metadata": {
  "kernelspec": {
   "display_name": ".venv",
   "language": "python",
   "name": "python3"
  },
  "language_info": {
   "codemirror_mode": {
    "name": "ipython",
    "version": 3
   },
   "file_extension": ".py",
   "mimetype": "text/x-python",
   "name": "python",
   "nbconvert_exporter": "python",
   "pygments_lexer": "ipython3",
   "version": "3.10.11"
  },
  "orig_nbformat": 4
 },
 "nbformat": 4,
 "nbformat_minor": 2
}
